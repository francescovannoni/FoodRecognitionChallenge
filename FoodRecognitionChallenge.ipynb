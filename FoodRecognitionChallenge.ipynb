{
  "nbformat": 4,
  "nbformat_minor": 0,
  "metadata": {
    "colab": {
      "name": "FoodRecognitionChallenge.ipynb",
      "provenance": [],
      "collapsed_sections": [],
      "include_colab_link": true
    },
    "kernelspec": {
      "name": "python3",
      "display_name": "Python 3"
    },
    "language_info": {
      "name": "python"
    },
    "accelerator": "GPU"
  },
  "cells": [
    {
      "cell_type": "markdown",
      "metadata": {
        "id": "view-in-github",
        "colab_type": "text"
      },
      "source": [
        "<a href=\"https://colab.research.google.com/github/francescovannoni/FoodRecognitionChallenge/blob/master/FoodRecognitionChallenge.ipynb\" target=\"_parent\"><img src=\"https://colab.research.google.com/assets/colab-badge.svg\" alt=\"Open In Colab\"/></a>"
      ]
    },
    {
      "cell_type": "markdown",
      "metadata": {
        "id": "eMD64gbD1uIN"
      },
      "source": [
        "#**Food Recognition Challenge**\n",
        "\n",
        "Recognizing food from images is an extremely useful tool for a variety of use cases. In particular, it would allow people to track their food intake by simply taking a picture of what they consume. Food tracking can be of personal interest, and can often be of medical relevance as well. Medical studies have for some time been interested in the food intake of study participants but had to rely on food frequency questionnaires that are known to be imprecise.\n",
        "\n",
        "The goal of this challenge is to train models which can look at images of food items and detect the individual food items present in them. We use a novel dataset of food images collected through the MyFoodRepo app where numerous volunteer Swiss users provide images of their daily food intake in the context of a digital cohort called Food & You. This growing data set has been annotated - or automatic annotations have been verified - with respect to segmentation, classification (mapping the individual food items onto an ontology of Swiss Food items), and weight/volume estimation."
      ]
    },
    {
      "cell_type": "markdown",
      "metadata": {
        "id": "Mydeeezw2IiZ"
      },
      "source": [
        "###**Libraries and Constants** "
      ]
    },
    {
      "cell_type": "markdown",
      "metadata": {
        "id": "M2yG0Y7-16Oj"
      },
      "source": [
        ""
      ]
    },
    {
      "cell_type": "code",
      "metadata": {
        "colab": {
          "base_uri": "https://localhost:8080/"
        },
        "id": "aginUgiHaC07",
        "outputId": "f947fc53-25f4-47b1-9862-f7947676e30f"
      },
      "source": [
        "#import preprocessing\n",
        "#import unet\n",
        "import os\n",
        "from pycocotools.coco import COCO\n",
        "import tensorflow as tf\n",
        "from tensorflow.keras import callbacks\n",
        "from tensorflow.keras import layers\n",
        "!pip install segmentation_models\n",
        "import segmentation_models as sm\n",
        "import numpy as np\n",
        "import json\n",
        "import cv2\n",
        "import collections\n",
        "from tqdm import tqdm\n",
        "import random\n",
        "\n",
        "IMG_WIDTH = 128\n",
        "IMG_HEIGHT = 128\n",
        "IMG_CHANNELS = 3\n",
        "CATEGORIES = 16\n",
        "N_MOST_COMMON = 14\n",
        "EPOCHS = 1\n",
        "BATCH_SIZE = 256"
      ],
      "execution_count": 2,
      "outputs": [
        {
          "output_type": "stream",
          "name": "stdout",
          "text": [
            "Requirement already satisfied: segmentation_models in /usr/local/lib/python3.7/dist-packages (1.0.1)\n",
            "Requirement already satisfied: keras-applications<=1.0.8,>=1.0.7 in /usr/local/lib/python3.7/dist-packages (from segmentation_models) (1.0.8)\n",
            "Requirement already satisfied: efficientnet==1.0.0 in /usr/local/lib/python3.7/dist-packages (from segmentation_models) (1.0.0)\n",
            "Requirement already satisfied: image-classifiers==1.0.0 in /usr/local/lib/python3.7/dist-packages (from segmentation_models) (1.0.0)\n",
            "Requirement already satisfied: scikit-image in /usr/local/lib/python3.7/dist-packages (from efficientnet==1.0.0->segmentation_models) (0.16.2)\n",
            "Requirement already satisfied: h5py in /usr/local/lib/python3.7/dist-packages (from keras-applications<=1.0.8,>=1.0.7->segmentation_models) (3.1.0)\n",
            "Requirement already satisfied: numpy>=1.9.1 in /usr/local/lib/python3.7/dist-packages (from keras-applications<=1.0.8,>=1.0.7->segmentation_models) (1.19.5)\n",
            "Requirement already satisfied: cached-property in /usr/local/lib/python3.7/dist-packages (from h5py->keras-applications<=1.0.8,>=1.0.7->segmentation_models) (1.5.2)\n",
            "Requirement already satisfied: imageio>=2.3.0 in /usr/local/lib/python3.7/dist-packages (from scikit-image->efficientnet==1.0.0->segmentation_models) (2.4.1)\n",
            "Requirement already satisfied: matplotlib!=3.0.0,>=2.0.0 in /usr/local/lib/python3.7/dist-packages (from scikit-image->efficientnet==1.0.0->segmentation_models) (3.2.2)\n",
            "Requirement already satisfied: pillow>=4.3.0 in /usr/local/lib/python3.7/dist-packages (from scikit-image->efficientnet==1.0.0->segmentation_models) (7.1.2)\n",
            "Requirement already satisfied: networkx>=2.0 in /usr/local/lib/python3.7/dist-packages (from scikit-image->efficientnet==1.0.0->segmentation_models) (2.6.2)\n",
            "Requirement already satisfied: scipy>=0.19.0 in /usr/local/lib/python3.7/dist-packages (from scikit-image->efficientnet==1.0.0->segmentation_models) (1.4.1)\n",
            "Requirement already satisfied: PyWavelets>=0.4.0 in /usr/local/lib/python3.7/dist-packages (from scikit-image->efficientnet==1.0.0->segmentation_models) (1.1.1)\n",
            "Requirement already satisfied: cycler>=0.10 in /usr/local/lib/python3.7/dist-packages (from matplotlib!=3.0.0,>=2.0.0->scikit-image->efficientnet==1.0.0->segmentation_models) (0.10.0)\n",
            "Requirement already satisfied: kiwisolver>=1.0.1 in /usr/local/lib/python3.7/dist-packages (from matplotlib!=3.0.0,>=2.0.0->scikit-image->efficientnet==1.0.0->segmentation_models) (1.3.1)\n",
            "Requirement already satisfied: pyparsing!=2.0.4,!=2.1.2,!=2.1.6,>=2.0.1 in /usr/local/lib/python3.7/dist-packages (from matplotlib!=3.0.0,>=2.0.0->scikit-image->efficientnet==1.0.0->segmentation_models) (2.4.7)\n",
            "Requirement already satisfied: python-dateutil>=2.1 in /usr/local/lib/python3.7/dist-packages (from matplotlib!=3.0.0,>=2.0.0->scikit-image->efficientnet==1.0.0->segmentation_models) (2.8.2)\n",
            "Requirement already satisfied: six in /usr/local/lib/python3.7/dist-packages (from cycler>=0.10->matplotlib!=3.0.0,>=2.0.0->scikit-image->efficientnet==1.0.0->segmentation_models) (1.15.0)\n",
            "Segmentation Models: using `keras` framework.\n"
          ]
        }
      ]
    },
    {
      "cell_type": "markdown",
      "metadata": {
        "id": "ZYtZT2Wz2Xz0"
      },
      "source": [
        "### **Import Data**"
      ]
    },
    {
      "cell_type": "code",
      "metadata": {
        "colab": {
          "base_uri": "https://localhost:8080/"
        },
        "id": "5EzjCktVvufo",
        "outputId": "0285ea8e-ae36-473b-9ae3-e7680a476070"
      },
      "source": [
        "from google.colab import drive\n",
        "drive.mount('/content/drive')"
      ],
      "execution_count": 3,
      "outputs": [
        {
          "output_type": "stream",
          "name": "stdout",
          "text": [
            "Drive already mounted at /content/drive; to attempt to forcibly remount, call drive.mount(\"/content/drive\", force_remount=True).\n"
          ]
        }
      ]
    },
    {
      "cell_type": "code",
      "metadata": {
        "id": "sEQuhh4dtHBt"
      },
      "source": [
        "def import_json_data():\n",
        "    # load train annotations\n",
        "    with open('/content/drive/MyDrive/DeepLearning/data/train/annotations.json') as json_file:\n",
        "        train_coco_inp = json.load(json_file)\n",
        "    print(\"Keys of train annotation file: \", train_coco_inp.keys())\n",
        "    print(\"No of Categories(Classes) present: \", len(train_coco_inp['categories']))\n",
        "\n",
        "    # load val annotations\n",
        "    with open('/content/drive/MyDrive/DeepLearning/data/val/annotations.json') as json_file:\n",
        "        val_coco_inp = json.load(json_file)\n",
        "    print(\"Keys of val annotation file: \", val_coco_inp.keys())\n",
        "    print(\"No of Categories(Classes) present: \", len(val_coco_inp['categories']))\n",
        "    return train_coco_inp, val_coco_inp"
      ],
      "execution_count": 4,
      "outputs": []
    },
    {
      "cell_type": "code",
      "metadata": {
        "id": "P5ABaoO3wUzQ",
        "colab": {
          "base_uri": "https://localhost:8080/"
        },
        "outputId": "2c44e5f5-80f5-40b3-aaf2-e71cd7b500d6"
      },
      "source": [
        "train_coco_inp, val_coco_inp = import_json_data()"
      ],
      "execution_count": 5,
      "outputs": [
        {
          "output_type": "stream",
          "name": "stdout",
          "text": [
            "Keys of train annotation file:  dict_keys(['categories', 'info', 'images', 'annotations'])\n",
            "No of Categories(Classes) present:  273\n",
            "Keys of val annotation file:  dict_keys(['categories', 'info', 'images', 'annotations'])\n",
            "No of Categories(Classes) present:  273\n"
          ]
        }
      ]
    },
    {
      "cell_type": "markdown",
      "metadata": {
        "id": "8ZMdfgOz2e75"
      },
      "source": [
        "##**Data Cleaning**\n",
        "\n",
        "We look for uncorrect annotations:\n",
        "\n",
        "- rotated annotations with respect to images\n",
        "\n",
        "- uncomplete coordinates\n",
        "\n",
        "- empty annotations"
      ]
    },
    {
      "cell_type": "code",
      "metadata": {
        "id": "mGVlXB5StOwx"
      },
      "source": [
        "def check_badannotation(coco_inp, train_val):\n",
        "    useless = []\n",
        "    for i in coco_inp['images']:\n",
        "        im = cv2.imread(\"/content/drive/MyDrive/DeepLearning/data/\" + train_val + f\"/images/{i['file_name']}\")\n",
        "        if (im.shape[0] != i['height']) or (im.shape[1] != i['width']):\n",
        "            os.remove(\"data/\" + train_val + f\"/images/{i['file_name']}\")\n",
        "            useless.append(i)\n",
        "\n",
        "    print(\"Number of images with mismatching dimensions: \", len(useless))\n",
        "    bad_ids = [item[\"id\"] for item in useless]\n",
        "    for i, item in enumerate(coco_inp['images']):\n",
        "        if item[\"id\"] in bad_ids:\n",
        "            del coco_inp[\"images\"][i]\n",
        "\n",
        "    for i, item in enumerate(coco_inp['annotations']):\n",
        "        if item[\"id\"] in bad_ids:\n",
        "            del coco_inp[\"annotations\"][i]\n",
        "\n",
        "    with open(\"/content/drive/MyDrive/DeepLearning/data/\" + train_val + \"/annotations_correct.json\", \"w\") as f:\n",
        "        f.write(json.dumps(coco_inp))\n",
        "\n",
        "def check_non_empty_annotations(train_coco_inp):\n",
        "    # checking if there are empty annotations\n",
        "    count = 0\n",
        "    for i in train_coco_inp[\"annotations\"]:\n",
        "        if not i[\"segmentation\"][0]:\n",
        "            count += 1\n",
        "    print('Numbers of empty annotations: ', count)\n",
        "\n",
        "def check_if_odd_annotations(train_coco_inp):\n",
        "    # checking if there are annotations with missing numbers\n",
        "    count = 0\n",
        "    for i in train_coco_inp[\"annotations\"]:\n",
        "        if len(i[\"segmentation\"][0]) % 2 == 1:\n",
        "            count += 1\n",
        "    print('Numbers of odd annotations: ', count)"
      ],
      "execution_count": 7,
      "outputs": []
    },
    {
      "cell_type": "code",
      "metadata": {
        "id": "4UxlFMlDxBlo",
        "colab": {
          "base_uri": "https://localhost:8080/"
        },
        "outputId": "eb75efcf-f878-415b-cfb3-06614318ae05"
      },
      "source": [
        "if not os.path.exists(\"/content/drive/MyDrive/DeepLearning/data/train/annotations_correct.json\"):\n",
        "    check_badannotation(train_coco_inp, \"train\")\n",
        "if not os.path.exists(\"/content/drive/MyDrive/DeepLearning/data/val/annotations_correct.json\"):\n",
        "    check_badannotation(val_coco_inp, \"val\")\n",
        "\n",
        "check_if_odd_annotations(train_coco_inp)\n",
        "check_non_empty_annotations(train_coco_inp)\n",
        "#choosing_best_size(train_coco_inp)"
      ],
      "execution_count": 8,
      "outputs": [
        {
          "output_type": "stream",
          "name": "stdout",
          "text": [
            "Numbers of odd annotations:  0\n",
            "Numbers of empty annotations:  0\n"
          ]
        }
      ]
    },
    {
      "cell_type": "markdown",
      "metadata": {
        "id": "3Q16HK323VGi"
      },
      "source": [
        "## **Load COCO Dataset**"
      ]
    },
    {
      "cell_type": "code",
      "metadata": {
        "id": "if8U69kVxUkX",
        "colab": {
          "base_uri": "https://localhost:8080/"
        },
        "outputId": "b5cf1d61-d4b6-4dd5-a95f-048e7643c43f"
      },
      "source": [
        "coco_train = COCO(\"/content/drive/MyDrive/DeepLearning/data/train/annotations_correct.json\")\n",
        "train_cat_ids = coco_train.getCatIds()\n",
        "categories = coco_train.loadCats(train_cat_ids)\n",
        "names = [c[\"name_readable\"] for c in categories]\n",
        "print(\"Number of different categories: \", len(names))\n",
        "train_ann_ids = coco_train.getAnnIds()\n",
        "train_anns = coco_train.loadAnns(train_ann_ids)\n",
        "\n",
        "# VALIDATION DATA\n",
        "coco_val = COCO(\"/content/drive/MyDrive/DeepLearning/data/val/annotations_correct.json\")\n",
        "val_cat_ids = coco_val.getCatIds()\n",
        "val_ann_ids = coco_val.getAnnIds()\n",
        "val_anns = coco_val.loadAnns(val_ann_ids)"
      ],
      "execution_count": 9,
      "outputs": [
        {
          "output_type": "stream",
          "name": "stdout",
          "text": [
            "loading annotations into memory...\n",
            "Done (t=1.97s)\n",
            "creating index...\n",
            "index created!\n",
            "Number of different categories:  273\n",
            "loading annotations into memory...\n",
            "Done (t=0.09s)\n",
            "creating index...\n",
            "index created!\n"
          ]
        }
      ]
    },
    {
      "cell_type": "markdown",
      "metadata": {
        "id": "Wz7VzY8_3fgQ"
      },
      "source": [
        "## **Getting Most Common Categories**"
      ]
    },
    {
      "cell_type": "code",
      "metadata": {
        "id": "1ljZIgS-tWxc"
      },
      "source": [
        "def get_most_common(anns, n_most_common):  # get n most common categories and return dictionary\n",
        "    # Loading into memory COCO dataset\n",
        "\n",
        "    ann_categories = []\n",
        "    for a in anns:\n",
        "        ann_categories.append(a[\"category_id\"])\n",
        "\n",
        "    counter = collections.Counter(ann_categories)\n",
        "    most_common = counter.most_common(n_most_common)\n",
        "    most_common = dict(most_common)\n",
        "\n",
        "    values = list(most_common.keys())\n",
        "\n",
        "    # n most frequent categories (dictionary 1....n to cat_id, n+1 others, 0 background)\n",
        "    id_correspondence = {values[i]: N_MOST_COMMON+1-i for i in range(0, len(values))}\n",
        "    return id_correspondence, most_common"
      ],
      "execution_count": 17,
      "outputs": []
    },
    {
      "cell_type": "code",
      "metadata": {
        "id": "4PJAj_TCxf4s",
        "colab": {
          "base_uri": "https://localhost:8080/"
        },
        "outputId": "566d0a1a-461c-4248-d4b1-3f56cb3b9fdd"
      },
      "source": [
        "fifthy_most_common_id, fifthy_most_common_freq = get_most_common(train_anns, 50)\n",
        "\n",
        "for i in list(fifthy_most_common_freq.keys()):\n",
        "  for el in train_coco_inp[\"categories\"]:\n",
        "    if el[\"id\"] == i:\n",
        "      fifthy_most_common_freq[el[\"name_readable\"]] = fifthy_most_common_freq.pop(i)\n",
        "\n",
        "print(fifthy_most_common_freq)\n",
        "\n",
        "most_common_ids, most_common_frequencies = get_most_common(train_anns, N_MOST_COMMON)"
      ],
      "execution_count": 22,
      "outputs": [
        {
          "output_type": "stream",
          "name": "stdout",
          "text": [
            "{'Water': 1836, 'Bread, white': 1276, 'Salad, leaf / salad, green': 1190, 'Tomato': 1072, 'Butter': 1010, 'Bread, wholemeal': 905, 'Carrot': 898, 'Coffee, with caffeine': 876, 'Rice': 659, 'Egg': 632, 'Mixed vegetables': 627, 'Wine, red': 546, 'Jam': 505, 'Apple': 504, 'Potatoes steamed': 452, 'Banana': 412, 'Cheese': 405, 'Espresso, with caffeine': 391, 'Cucumber': 383, 'Mixed salad (chopped without sauce)': 374, 'Tea': 353, 'Wine, white': 333, 'Hard cheese': 319, 'Avocado': 298, 'Tomato sauce': 291, 'Chicken': 280, 'Sweet pepper': 279, 'White coffee, with caffeine': 274, 'Broccoli': 262, 'Pasta, spaghetti': 255, 'Strawberries': 245, 'Chips, french fries': 238, 'Zucchini': 233, 'Honey': 230, 'Bread, whole wheat': 228, 'Dark chocolate': 213, 'Pizza, Margherita, baked': 206, 'Parmesan': 201, 'Mayonnaise': 198, 'Leaf spinach': 194, 'Braided white loaf': 194, 'Water, mineral': 185, 'GruyÃ¨re': 183, 'Soft cheese': 181, 'Salmon': 176, 'Salami': 173, 'Boisson au glucose 50g': 171, 'Juice, orange': 164, 'Mixed nuts': 163, 'Salmon, smoked': 162}\n"
          ]
        }
      ]
    },
    {
      "cell_type": "code",
      "metadata": {
        "id": "-pg6xoK-TW5o",
        "colab": {
          "base_uri": "https://localhost:8080/",
          "height": 729
        },
        "outputId": "9127dd62-ace0-4666-b0ae-43a90829b1ab"
      },
      "source": [
        "import numpy as np\n",
        "import matplotlib.pyplot as plt\n",
        "\n",
        "l = fifthy_most_common_freq\n",
        "#l = dict((k,v) for k,v in l.items() if v>=500) prime 14\n",
        "names = list(l.keys())\n",
        "values = list(l.values())\n",
        "'''\n",
        "print(keys)\n",
        "print(items)\n",
        "\n",
        "x_pos = np.arange(len(keys))\n",
        "\n",
        "plt.bar(x_pos, items, align='center')\n",
        "plt.xticks(x_pos, keys)\n",
        "plt.ylabel('Categorie più comuni')\n",
        "plt.xlabel('Id')\n",
        "plt.title('Frequenza')\n",
        "plt.show()\n",
        "'''\n",
        "\n",
        "x  = np.array(names)\n",
        "y = np.array(values)\n",
        "fig = plt.figure(figsize=(12,10))\n",
        "ax = fig.add_subplot(111)\n",
        "yvals = range(len(names))\n",
        "ax.barh(yvals, values, align='center', alpha=0.4, color=['red','blue'])\n",
        "plt.yticks(yvals,names)\n",
        "plt.tight_layout()\n",
        "\n",
        "plt.show()"
      ],
      "execution_count": 42,
      "outputs": [
        {
          "output_type": "display_data",
          "data": {
            "image/png": "[encoded data removed]",
            "text/plain": [
              "<Figure size 864x720 with 1 Axes>"
            ]
          },
          "metadata": {
            "needs_background": "light"
          }
        }
      ]
    },
    {
      "cell_type": "markdown",
      "metadata": {
        "id": "flo9lPbK3oEf"
      },
      "source": [
        "## **Mask Creator and Dataset Generator**"
      ]
    },
    {
      "cell_type": "code",
      "metadata": {
        "id": "M0sBWZVCtar-"
      },
      "source": [
        "def get_mask(img_id, img_shape, coco_train, anns, most_common):\n",
        "    mask = np.zeros((img_shape[0], img_shape[1], CATEGORIES))\n",
        "    for ann in anns:\n",
        "        if ann[\"image_id\"] == img_id:\n",
        "            if ann[\"category_id\"] in most_common:\n",
        "                mask[:, :, most_common[ann[\"category_id\"]]] = coco_train.annToMask(ann)\n",
        "            else:\n",
        "                mask[:, :, 15] += coco_train.annToMask(ann)\n",
        "    mask[:, :, 15][mask[:, :, 15] >= 1] = 1\n",
        "    mask = cv2.resize(mask, (IMG_HEIGHT, IMG_WIDTH))\n",
        "    return mask\n",
        "\n",
        "\n",
        "def getImages(path):\n",
        "    list_imgs = []\n",
        "    for filename in tqdm(os.listdir(path)):\n",
        "        list_imgs.append(filename)\n",
        "    random.shuffle(list_imgs)\n",
        "    return list_imgs\n",
        "\n",
        "\n",
        "def generator(coco_data, anns, most_common, path, batch_size, list_imgs):\n",
        "    list_imgs = list_imgs\n",
        "    dataset_size = len(list_imgs)\n",
        "\n",
        "    i = 0\n",
        "    X = np.zeros((batch_size, IMG_HEIGHT, IMG_WIDTH, IMG_CHANNELS))\n",
        "    y = np.zeros((batch_size, IMG_HEIGHT, IMG_WIDTH, CATEGORIES))\n",
        "\n",
        "    while True:\n",
        "        for j in range(i, i + batch_size):\n",
        "            img_id = int(list_imgs[j].lstrip(\"0\").rstrip(\".jpg\"))  # getting image id\n",
        "            img = cv2.imread(os.path.join(path, list_imgs[j]), cv2.IMREAD_COLOR)\n",
        "            img = cv2.cvtColor(img, cv2.COLOR_BGR2RGB)\n",
        "            y[j - i] = (get_mask(img_id, img.shape, coco_data, anns, most_common))\n",
        "            X[j - i] = (cv2.resize(img, (IMG_WIDTH, IMG_HEIGHT)))\n",
        "\n",
        "        i += batch_size\n",
        "        if i + batch_size >= dataset_size:\n",
        "            i = 0\n",
        "            random.shuffle(list_imgs)\n",
        "        yield X, y"
      ],
      "execution_count": 10,
      "outputs": []
    },
    {
      "cell_type": "code",
      "metadata": {
        "id": "C09BUPsWxlEZ",
        "colab": {
          "base_uri": "https://localhost:8080/"
        },
        "outputId": "016f5af7-bb91-471e-dba0-25fe840ea042"
      },
      "source": [
        "train_images_name = getImages(path=\"/content/drive/MyDrive/DeepLearning/data/train/images\")\n",
        "dataset_train_size = len(train_images_name)\n",
        "\n",
        "val_images_name = getImages(path=\"/content/drive/MyDrive/DeepLearning/data/val/images\")\n",
        "dataset_val_size = len(val_images_name)\n",
        "\n",
        "train = generator(coco_train, train_anns, most_common_ids, path=\"/content/drive/MyDrive/DeepLearning/data/train/images/\",  batch_size=BATCH_SIZE, list_imgs=train_images_name)\n",
        "\n",
        "callbacks = [\n",
        "    keras.callbacks.EarlyStopping(patience=4, monitor='accuracy'),  # monitor era val_loss\n",
        "    keras.callbacks.TensorBoard(log_dir='logs')\n",
        "]"
      ],
      "execution_count": 11,
      "outputs": [
        {
          "output_type": "stream",
          "name": "stderr",
          "text": [
            "100%|██████████| 24092/24092 [00:00<00:00, 2555231.17it/s]\n",
            "100%|██████████| 1268/1268 [00:00<00:00, 1355345.94it/s]\n"
          ]
        }
      ]
    },
    {
      "cell_type": "markdown",
      "metadata": {
        "id": "CbNU3SCo34v-"
      },
      "source": [
        "## **U-Net Model**"
      ]
    },
    {
      "cell_type": "markdown",
      "metadata": {
        "id": "J_p-Ix1VLc30"
      },
      "source": [
        "descrizione u net model\n"
      ]
    },
    {
      "cell_type": "markdown",
      "metadata": {
        "id": "ZOMk8laS4AA5"
      },
      "source": [
        "### **Implementing U-Net Architecture**"
      ]
    },
    {
      "cell_type": "code",
      "metadata": {
        "id": "ZOHfHfye1Fl9"
      },
      "source": [
        "FILTER = 16\n",
        "\n",
        "def unet_model():\n",
        "    # INPUT LAYER\n",
        "    inputs = layers.Input((IMG_WIDTH, IMG_HEIGHT, IMG_CHANNELS))  # PADDING?? PER ORA NO\n",
        "    # we hve to work with floating point numbers, divide each pixel by 255\n",
        "    s = layers.Lambda(lambda x: x / 255)(inputs)  # Normalization\n",
        "\n",
        "    # CONTRACTION PATH\n",
        "    # first convolutional layer\n",
        "    c1 = layers.Conv2D(FILTER, (3, 3), activation=\"relu\", kernel_initializer=\"he_normal\", padding=\"same\")(s)\n",
        "    # add dropout(10 percent from c1)\n",
        "    c1 = layers.BatchNormalization()(c1)\n",
        "    c1 = layers.Activation('relu')(c1)\n",
        "    # second layer of the first step\n",
        "    c1 = layers.Conv2D(FILTER, (3, 3), activation=\"relu\", kernel_initializer=\"he_normal\", padding=\"same\")(c1)\n",
        "    # max pooling\n",
        "    p1 = layers.MaxPool2D((2, 2))(c1)\n",
        "    # c1 and p1 we have defined the first layer\n",
        "\n",
        "    # kernel initializer: you have to start with some weights, these are the starting weights then\n",
        "    # updated in the training #he normal as to do with normal distribution Centered around zero\n",
        "    # truncated normal is another one (look at the documentation)\n",
        "\n",
        "    # we add padding because we want the same input and output image size\n",
        "\n",
        "    # relu sparsity, many zeros, satures, increase efficiency with regars to tiime and space\n",
        "    # complexity because of sparsty and avoid the vanishing gradient problem\n",
        "\n",
        "    # introduce the dead relu problem: network components most luckily neveer updates to a new value\n",
        "\n",
        "    # UNET SEQUENTIAL OPERATOR\n",
        "\n",
        "    c2 = layers.Conv2D(FILTER*2, (3, 3), activation=\"relu\", kernel_initializer=\"he_normal\", padding=\"same\")(p1)\n",
        "    c2 = layers.BatchNormalization()(c2)\n",
        "    c2 = layers.Activation('relu')(c2)\n",
        "    c2 = layers.Conv2D(FILTER*2, (3, 3), activation=\"relu\", kernel_initializer=\"he_normal\", padding=\"same\")(c2)\n",
        "    p2 = layers.MaxPool2D((2, 2))(c2)\n",
        "\n",
        "    c3 = layers.Conv2D(FILTER*4, (3, 3), activation=\"relu\", kernel_initializer=\"he_normal\", padding=\"same\")(p2)\n",
        "    c3 = layers.BatchNormalization()(c3)\n",
        "    c3 = layers.Activation('relu')(c3)\n",
        "    c3 = layers.Conv2D(FILTER*4, (3, 3), activation=\"relu\", kernel_initializer=\"he_normal\", padding=\"same\")(c3)\n",
        "    p3 = layers.MaxPool2D((2, 2))(c3)\n",
        "\n",
        "    c4 = layers.Conv2D(FILTER*8, (3, 3), activation=\"relu\", kernel_initializer=\"he_normal\", padding=\"same\")(p3)\n",
        "    c4 = layers.BatchNormalization()(c4)\n",
        "    c4 = layers.Activation('relu')(c4)\n",
        "    c4 = layers.Conv2D(FILTER*8, (3, 3), activation=\"relu\", kernel_initializer=\"he_normal\", padding=\"same\")(c4)\n",
        "    p4 = layers.MaxPool2D((2, 2))(c4)\n",
        "\n",
        "    c5 = layers.Conv2D(FILTER*16, (3, 3), activation=\"relu\", kernel_initializer=\"he_normal\", padding=\"same\")(p4)\n",
        "    c5 = layers.BatchNormalization()(c5)\n",
        "    c5 = layers.Activation('relu')(c5)\n",
        "    c5 = layers.Conv2D(FILTER*16, (3, 3), activation=\"relu\", kernel_initializer=\"he_normal\", padding=\"same\")(c5)\n",
        "    # ultimo è a 256\n",
        "\n",
        "    # starting expansive path\n",
        "    # ultimo era 256 quindi ridimezza 128\n",
        "    # deconvolution is the opposite part of convolution\n",
        "    u6 = layers.Conv2DTranspose(FILTER*8, (2, 2), strides=(2, 2), padding='same')(c5)\n",
        "    u6 = layers.concatenate([u6, c4])\n",
        "    c6 = layers.Conv2D(FILTER*8, (3, 3), kernel_initializer='he_normal', activation=\"relu\", padding='same')(u6)\n",
        "    c6 = layers.BatchNormalization()(c6)\n",
        "    c6 = layers.Activation('relu')(c6)\n",
        "    c6 = layers.Conv2D(FILTER*8, (3, 3), kernel_initializer='he_normal', activation=\"relu\", padding='same')(c6)\n",
        "\n",
        "    u7 = layers.Conv2DTranspose(FILTER*4, (2, 2), strides=(2, 2), padding='same')(c6)\n",
        "    u7 = layers.concatenate([u7, c3])\n",
        "    c7 = layers.Conv2D(FILTER*4, (3, 3), kernel_initializer='he_normal', activation=\"relu\", padding='same')(u7)\n",
        "    c7 = layers.BatchNormalization()(c7)\n",
        "    c7 = layers.Activation('relu')(c7)\n",
        "    c7 = layers.Conv2D(FILTER*4, (3, 3), kernel_initializer='he_normal', activation=\"relu\", padding='same')(c7)\n",
        "\n",
        "    u8 = layers.Conv2DTranspose(FILTER*2, (2, 2), strides=(2, 2), padding='same')(c7)\n",
        "    u8 = layers.concatenate([u8, c2])\n",
        "    c8 = layers.Conv2D(FILTER*2, (3, 3), kernel_initializer='he_normal', activation=\"relu\", padding='same')(u8)\n",
        "    c8 = layers.BatchNormalization()(c8)\n",
        "    c8 = layers.Activation('relu')(c8)\n",
        "    c8 = layers.Conv2D(FILTER*2, (3, 3), kernel_initializer='he_normal', activation=\"relu\", padding='same')(c8)\n",
        "\n",
        "    u9 = layers.Conv2DTranspose(FILTER, (2, 2), strides=(2, 2), padding='same')(c8)\n",
        "    u9 = layers.concatenate([u9, c1])\n",
        "    c9 = layers.Conv2D(FILTER, (3, 3), kernel_initializer='he_normal', activation=\"relu\", padding='same')(u9)\n",
        "    c9 = layers.BatchNormalization()(c9)\n",
        "    c9 = layers.Activation('relu')(c9)\n",
        "    c9 = layers.Conv2D(FILTER, (3, 3), kernel_initializer='he_normal', activation=\"relu\", padding='same')(c9)\n",
        "\n",
        "    # output\n",
        "\n",
        "    # optimizer a lot of backpropagation to train model sgd, too mean square you can use more. most often adam\n",
        "    # loss binary crossentropy\n",
        "    # metric accuracy\n",
        "    outputs = layers.Conv2D(CATEGORIES, (1, 1), activation=\"softmax\")(c9)\n",
        "    model = tf.keras.Model(inputs=[inputs], outputs=[outputs])\n",
        "\n",
        "\n",
        "    # is summary num parameters is the number of trainable parameters\n",
        "    model.summary()\n",
        "\n",
        "    return model"
      ],
      "execution_count": 16,
      "outputs": []
    },
    {
      "cell_type": "markdown",
      "metadata": {
        "id": "n9ZpXu4v4PEr"
      },
      "source": [
        "### **Fitting and Training**"
      ]
    },
    {
      "cell_type": "code",
      "metadata": {
        "id": "WKsKSNtHUreW"
      },
      "source": [
        "print('Model adam dice')\n",
        "adam_dice= unet.unet_model()\n",
        "adam_dice.compile(optimizer='adam', loss=sm.losses.cce_dice_loss, metrics=['accuracy', sm.metrics.iou_score, sm.metrics.precision, sm.metrics.recall])\n",
        "adam_dice.fit(train, steps_per_epoch=dataset_train_size//BATCH_SIZE , epochs=EPOCHS, callbacks=callbacks)\n",
        "\n",
        "print('Model adam focal')\n",
        "adam_focal= unet.unet_model()\n",
        "adam_focal.compile(optimizer='adam', loss=sm.losses.categorical_focal_loss, metrics=['accuracy', sm.metrics.iou_score, sm.metrics.precision, sm.metrics.recall])\n",
        "adam_focal.fit(train, steps_per_epoch=dataset_train_size//BATCH_SIZE , epochs=EPOCHS, callbacks=callbacks)\n",
        "\n",
        "print('Model adam cce')\n",
        "adam_cce= unet.unet_model()\n",
        "adam_cce.compile(optimizer='adam', loss='categorical_crossentropy', metrics=['accuracy', sm.metrics.iou_score, sm.metrics.precision, sm.metrics.recall])\n",
        "adam_cce.fit(train, steps_per_epoch=dataset_train_size//BATCH_SIZE , epochs=EPOCHS, callbacks=callbacks)\n",
        "\n",
        "print('Model sgd dice')\n",
        "sgd_dice= unet.unet_model()\n",
        "sgd_dice.compile(optimizer='sgd', loss=sm.losses.cce_dice_loss, metrics=['accuracy', sm.metrics.iou_score, sm.metrics.precision, sm.metrics.recall])\n",
        "sgd_dice.fit(train, steps_per_epoch=dataset_train_size//BATCH_SIZE , epochs=EPOCHS, callbacks=callbacks)\n",
        "\n",
        "print('Model sgd focal')\n",
        "sgd_focal= unet.unet_model()\n",
        "sgd_focal.compile(optimizer='sgd', loss=sm.losses.categorical_focal_loss, metrics=['accuracy', sm.metrics.iou_score, sm.metrics.precision, sm.metrics.recall])\n",
        "sgd_focal.fit(train, steps_per_epoch=dataset_train_size//BATCH_SIZE , epochs=EPOCHS, callbacks=callbacks)\n",
        "\n",
        "print('Model sgd cce')\n",
        "sgd_cce= unet.unet_model()\n",
        "sgd_cce.compile(optimizer='sgd', loss='categorical_crossentropy', metrics=['accuracy', sm.metrics.iou_score, sm.metrics.precision, sm.metrics.recall])\n",
        "sgd_cce.fit(train, steps_per_epoch=dataset_train_size//BATCH_SIZE , epochs=EPOCHS, callbacks=callbacks)"
      ],
      "execution_count": null,
      "outputs": []
    }
  ]
}